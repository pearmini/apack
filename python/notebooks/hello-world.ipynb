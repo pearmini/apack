{
 "cells": [
  {
   "cell_type": "code",
   "execution_count": null,
   "id": "cc36e674-6c19-4e37-a4ba-f58e22608cb1",
   "metadata": {},
   "outputs": [],
   "source": [
    "import pyapack as ap"
   ]
  },
  {
   "cell_type": "code",
   "execution_count": null,
   "id": "795f55ae-51b8-4583-ba3a-c3e82517488d",
   "metadata": {},
   "outputs": [],
   "source": [
    "ap.render(\"hello world\")"
   ]
  },
  {
   "cell_type": "code",
   "execution_count": null,
   "id": "3b738a28-53e5-4615-b756-e3f00b5f7778",
   "metadata": {},
   "outputs": [],
   "source": [
    "ap.render(\"hello world\", {\"word\":{\"fill\":\"red\"}})"
   ]
  },
  {
   "cell_type": "code",
   "execution_count": null,
   "id": "22ea087e-a89d-4aac-b026-59d797beb652",
   "metadata": {},
   "outputs": [],
   "source": []
  }
 ],
 "metadata": {
  "kernelspec": {
   "display_name": "Python 3 (ipykernel)",
   "language": "python",
   "name": "python3"
  },
  "language_info": {
   "codemirror_mode": {
    "name": "ipython",
    "version": 3
   },
   "file_extension": ".py",
   "mimetype": "text/x-python",
   "name": "python",
   "nbconvert_exporter": "python",
   "pygments_lexer": "ipython3",
   "version": "3.13.2"
  }
 },
 "nbformat": 4,
 "nbformat_minor": 5
}
